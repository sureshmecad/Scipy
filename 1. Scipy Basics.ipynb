{
 "cells": [
  {
   "cell_type": "markdown",
   "metadata": {},
   "source": [
    "https://www.youtube.com/watch?v=NVTWjd_UpzM\n",
    "\n",
    "https://www.youtube.com/watch?v=k8s-R3csOt0"
   ]
  },
  {
   "cell_type": "raw",
   "metadata": {},
   "source": [
    "#   SciPy ia a python library used to solve Scientific and mathematical problems\n",
    "\n",
    "#   Built on numpy (If you want to import SciPy, no need to import Numpy)\n",
    "\n",
    "#   Allows manipulation and visualisation\n",
    "\n",
    "#   Numpy and SciPy :\n",
    "\n",
    "          - used for mathematical and numerical analysis\n",
    "          \n",
    "          - Numpy contains array data and basic operations\n",
    "\n",
    "          - SciPy consists of all the numerical code\n",
    "          \n",
    "          - Scipy contains fully featured versions of mathematical and scientific functions"
   ]
  },
  {
   "cell_type": "raw",
   "metadata": {},
   "source": [
    "           Numpy : Numerical Python\n",
    "       \n",
    "           SciPy : Scientific Python\n",
    "           \n",
    "\n",
    "#    Numpy and Scipy : fundamental python packages for \"scientific computation / Programming\"\n",
    "\n",
    "\n",
    "\n",
    "#    Scientific Programming:\n",
    "\n",
    "        \" deals with solving scientific or mathematical problems with the help of computers\"\n",
    "        \n",
    "        \n",
    "                Scientific Language :  MATLAB\n",
    "                \n",
    "                                       FORTRAN\n",
    "                                       \n",
    "                                       ALGOL\n",
    "                                       \n",
    "                                       APL\n",
    "                                       \n",
    "                                       \n",
    "#    Python for Scientific computing : Use Numpy and SciPy\n",
    "\n",
    "\n",
    "#    Basic Scientific Programming Operations:\n",
    "\n",
    "                 arrays                               --->    Numpy\n",
    "                 \n",
    "                 matrices                             --->    Numpy\n",
    "                 \n",
    "                 Integration                          --->    Scipy\n",
    "                 \n",
    "                 Differential Equation Solver         --->    Scipy\n",
    "                 \n",
    "                 Statistics and much more             --->    Scipy\n",
    "                 \n",
    "                 \n",
    "           But python by default doesn't have any of these fundamental builtin except some basic mathematical operation that \n",
    "           \n",
    "           can only deal with variables not with array / matrices. So if you want to do the calculation on array, matrices, ...\n",
    "           \n",
    "           then need to use numpy, scipy libraries.\n",
    "           \n",
    "           \n",
    "#    Numpy is specialised in numerical processing through multidimensional 2d arrays and numpy has built function for linear \n",
    "\n",
    "     algebra, random number generation\n",
    "     \n",
    "    \n",
    "#    SciPy is built on numpy array framework"
   ]
  },
  {
   "cell_type": "raw",
   "metadata": {},
   "source": [
    "#   Sub-Packages in SciPy:\n",
    "\n",
    "        - cluster\n",
    "        \n",
    "        - constants\n",
    "        \n",
    "        - fftpack\n",
    "        \n",
    "        - integrate\n",
    "        \n",
    "        - interpolate\n",
    "        \n",
    "        - io\n",
    "        \n",
    "        - linalg\n",
    "        \n",
    "        - ndimage\n",
    "        \n",
    "        - odr\n",
    "        \n",
    "        - optimize\n",
    "        \n",
    "        - signal\n",
    "        \n",
    "        - sparse\n",
    "        \n",
    "        - spatial\n",
    "        \n",
    "        - special\n",
    "        \n",
    "        - stats"
   ]
  },
  {
   "cell_type": "markdown",
   "metadata": {},
   "source": [
    "### Basic Functions"
   ]
  },
  {
   "cell_type": "raw",
   "metadata": {},
   "source": [
    "#  Basic Functions:\n",
    "\n",
    "        - help()\n",
    "        \n",
    "        - info()\n",
    "        \n",
    "        - source()"
   ]
  },
  {
   "cell_type": "markdown",
   "metadata": {},
   "source": [
    "### Special Functions"
   ]
  },
  {
   "cell_type": "raw",
   "metadata": {},
   "source": [
    "#  Functions available for mathematical physics\n",
    "\n",
    "#  Some of these functions include\n",
    "\n",
    "           - gamma\n",
    "    \n",
    "           - bete\n",
    "        \n",
    "           - hypergeometric\n",
    "            \n",
    "           - parabolic cylinder\n",
    "           \n",
    "           \n",
    "           \n",
    "    1. Exponential Functions\n",
    "           \n",
    "    2. Trigonometric Functions"
   ]
  },
  {
   "cell_type": "markdown",
   "metadata": {},
   "source": [
    "### Integration Functions"
   ]
  },
  {
   "cell_type": "raw",
   "metadata": {},
   "source": [
    "#  Integration deals with adding slices to determine the whole. Integration can be used to find displacement, area etc...\n",
    "\n",
    "      \n",
    "      1. General Integration\n",
    "      \n",
    "             The quad function calculates the integral of a function which has one variable.\n",
    "      \n",
    "      2. Double Integration\n",
    "      \n",
    "             The dblquad function calculates double integral of a function which has two variables."
   ]
  },
  {
   "cell_type": "markdown",
   "metadata": {},
   "source": [
    "### Fourier Transformation"
   ]
  },
  {
   "cell_type": "raw",
   "metadata": {},
   "source": [
    "#  Fourier analysis is a method that deals with expressing a function as a sum of periodic components and recovering\n",
    "\n",
    "   the signal from those components.\n",
    "\n",
    "#  The fft and ifft functions can be used to return the discrete Fourier transform of a real or complex sequence."
   ]
  },
  {
   "cell_type": "markdown",
   "metadata": {},
   "source": [
    "### Linear Algebra"
   ]
  },
  {
   "cell_type": "raw",
   "metadata": {},
   "source": [
    "#  Scipy is built on ATLASLAPACK and BLAS libraries and is extremly fast in solving problems related to linear algebra\n",
    "\n",
    "#  Inverse of a matrix:\n",
    "\n",
    "       Inverse of a matrix A is the matrix B such that AB=I where I is the identity matrix consisting of ones down the main \n",
    "       \n",
    "       diagonal denoted as B=A-1"
   ]
  },
  {
   "cell_type": "markdown",
   "metadata": {},
   "source": [
    "### Interpolation Functions"
   ]
  },
  {
   "cell_type": "raw",
   "metadata": {},
   "source": [
    "#  Interpolation refers to constructing new data points within a set of known data points. The scipy.interpolate consists of \n",
    "\n",
    "   spline functions and classes, one-dimensional and multi-dimensional(univariate and multivariate) interpolation classes etc. "
   ]
  }
 ],
 "metadata": {
  "kernelspec": {
   "display_name": "Python 3",
   "language": "python",
   "name": "python3"
  },
  "language_info": {
   "codemirror_mode": {
    "name": "ipython",
    "version": 3
   },
   "file_extension": ".py",
   "mimetype": "text/x-python",
   "name": "python",
   "nbconvert_exporter": "python",
   "pygments_lexer": "ipython3",
   "version": "3.7.3"
  }
 },
 "nbformat": 4,
 "nbformat_minor": 2
}
